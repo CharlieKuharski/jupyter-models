{
 "cells": [
  {
   "cell_type": "code",
   "execution_count": 1,
   "id": "58345d1b",
   "metadata": {},
   "outputs": [
    {
     "data": {
      "text/plain": [
       "(768,)"
      ]
     },
     "execution_count": 1,
     "metadata": {},
     "output_type": "execute_result"
    }
   ],
   "source": [
    "import numpy as np\n",
    "\n",
    "# read data\n",
    "data = np.genfromtxt(\"pima-indians-diabetes-imbalanced.csv\", delimiter=',', dtype=None, encoding = 'UTF-8', names=True)\n",
    "\n",
    "# inital import test\n",
    "data.shape"
   ]
  },
  {
   "cell_type": "markdown",
   "id": "44fd960a-fd05-4ccf-9a3d-8eb62614c678",
   "metadata": {},
   "source": [
    "### Reshape"
   ]
  },
  {
   "cell_type": "code",
   "execution_count": 2,
   "id": "d91d0ca1",
   "metadata": {},
   "outputs": [],
   "source": [
    "x1 = np.reshape(data[\"Pedigree_fun\"],(-1,1))\n",
    "x2 = np.reshape(data[\"Age\"],(-1,1))\n",
    "x3 = np.reshape(data[\"BMI\"],(-1,1))\n",
    "x4 = np.reshape(data[\"Plasma_glucose\"],(-1,1))\n",
    "x5 = np.reshape(data[\"No_pregnancies\"],(-1,1))\n",
    "\n",
    "y = data[\"Diabetes\"]\n",
    "\n",
    "X = np.concatenate((x1,x2,x3,x4,x5),axis=1)"
   ]
  },
  {
   "cell_type": "markdown",
   "id": "c5c93f10-361a-40ee-b73a-cd72738480cd",
   "metadata": {},
   "source": [
    "### Normalize the predictor variables (Min-max)"
   ]
  },
  {
   "cell_type": "code",
   "execution_count": 3,
   "id": "ccb6ee51",
   "metadata": {},
   "outputs": [
    {
     "data": {
      "text/plain": [
       "(768, 5)"
      ]
     },
     "execution_count": 3,
     "metadata": {},
     "output_type": "execute_result"
    }
   ],
   "source": [
    "from sklearn.preprocessing import MinMaxScaler\n",
    "\n",
    "scaler = MinMaxScaler()\n",
    "\n",
    "# could use fit_transform == fit().transform()\n",
    "# find MIN and MAX value in each cloumn of array X.  we apply the calculations that we have calculated in fit() to every data point\n",
    "# calulates \"unit variance\".  Learns something about the data\n",
    "scaler.fit(X) \n",
    "\n",
    "# rescale or transform.  Applies the min-max scaling normalization to all values\n",
    "# use what it learned\n",
    "norm_X = scaler.transform(X)\n",
    "norm_X.shape"
   ]
  },
  {
   "cell_type": "markdown",
   "id": "ef7ee544-6788-45aa-ae4e-26e3411372de",
   "metadata": {},
   "source": [
    "### Transform "
   ]
  },
  {
   "cell_type": "code",
   "execution_count": 4,
   "id": "0552719f",
   "metadata": {},
   "outputs": [],
   "source": [
    "X_trans = scaler.transform(X)\n",
    "\n",
    "# Validate\n",
    "# X_trans[:10,:]"
   ]
  },
  {
   "cell_type": "code",
   "execution_count": 5,
   "id": "8f849a82",
   "metadata": {},
   "outputs": [],
   "source": [
    "metrics = lambda y_test, y_pred:(\n",
    "        accuracy_score(y_test, y_pred), precision_score(y_test, y_pred), recall_score(y_test, y_pred), f1_score(y_test, y_pred)\n",
    "    )"
   ]
  },
  {
   "cell_type": "markdown",
   "id": "13fee7b8-345a-4638-921c-9f0d175059fe",
   "metadata": {},
   "source": [
    "### ANN Modeling"
   ]
  },
  {
   "cell_type": "code",
   "execution_count": 6,
   "id": "9cbeaff6-f5aa-4300-9662-930f8ff65fc2",
   "metadata": {
    "tags": []
   },
   "outputs": [],
   "source": [
    "import sklearn.neural_network as ann\n",
    "import csv\n",
    "from sklearn.metrics import accuracy_score, f1_score, recall_score, precision_score\n",
    "\n",
    "\"\"\"\n",
    "loops through models and evaluates on layers 1,2,3 from 1-25 neurons\n",
    "\"\"\"\n",
    "def generate_results(file, XTrain, yTrain):\n",
    "    layer01_max = 25\n",
    "    layer02_max = 25\n",
    "    layer03_max = 25\n",
    "\n",
    "    filename = file\n",
    "    X_train = XTrain\n",
    "    y_train = yTrain\n",
    "\n",
    "    max_iteratons = 4000\n",
    "\n",
    "    with open(filename, 'w') as csvfile:\n",
    "        # my headers\n",
    "        headerList = ['hidden layer 1','hidden layer 2','hidden layer 3', 'accuracy_score', 'precision_score', 'recall_score', 'f1_score']\n",
    "        csvwriter = csv.writer(csvfile, dialect='excel')\n",
    "        csvwriter.writerow(headerList)\n",
    "        i=j=k=1\n",
    "        while i < layer01_max:\n",
    "            ann_model0 = ann.MLPClassifier((i), activation = 'logistic', max_iter = max_iteratons)\n",
    "            ann_model0.fit(X_train, y_train)\n",
    "            y_pred = ann_model0.predict(X_test)\n",
    "            #print(\"i- \",i)\n",
    "\n",
    "            arr1 = [i,0,0]\n",
    "            met_array = np.array(metrics(y_test, y_pred))\n",
    "            arr1.extend(met_array)\n",
    "\n",
    "            csvwriter.writerow(arr1)\n",
    "            i+=1\n",
    "            #print(arr1)\n",
    "        while j < layer02_max:\n",
    "            ann_modelj = ann.MLPClassifier((i,j), activation = 'logistic', max_iter = max_iteratons)\n",
    "            ann_modelj.fit(X_train, y_train)\n",
    "            y_predj = ann_modelj.predict(X_test)\n",
    "            #print(\"j - \",i,j)\n",
    "\n",
    "            arr1 = [i,j,0]\n",
    "            met_array = np.array(metrics(y_test, y_pred))\n",
    "            arr1.extend(met_array)\n",
    "\n",
    "            csvwriter.writerow(arr1)\n",
    "            j+=1\n",
    "            #print(arr1)\n",
    "        while k < layer03_max:\n",
    "            ann_modelk = ann.MLPClassifier((i,j,k), activation = 'logistic', max_iter = max_iteratons)\n",
    "            ann_modelk.fit(X_train, y_train)\n",
    "            y_predk = ann_modelk.predict(X_test)\n",
    "\n",
    "            #print(\"k- \",i,j,k)\n",
    "            arr1 = [i,j,k]\n",
    "            met_array = np.array(metrics(y_test, y_pred))\n",
    "            arr1.extend(met_array)\n",
    "            csvwriter.writerow(arr1)\n",
    "            k+=1\n",
    "            #print(arr1) "
   ]
  },
  {
   "cell_type": "markdown",
   "id": "6fb32213-2955-4b2f-8532-fa6172307ec0",
   "metadata": {},
   "source": [
    "### Train Split"
   ]
  },
  {
   "cell_type": "code",
   "execution_count": 7,
   "id": "35c89cce-2490-4213-8ff9-d49c0eb8f5aa",
   "metadata": {},
   "outputs": [
    {
     "name": "stderr",
     "output_type": "stream",
     "text": [
      "C:\\Users\\kabus\\anaconda3\\lib\\site-packages\\sklearn\\metrics\\_classification.py:1318: UndefinedMetricWarning: Precision is ill-defined and being set to 0.0 due to no predicted samples. Use `zero_division` parameter to control this behavior.\n",
      "  _warn_prf(average, modifier, msg_start, len(result))\n",
      "C:\\Users\\kabus\\anaconda3\\lib\\site-packages\\sklearn\\metrics\\_classification.py:1318: UndefinedMetricWarning: Precision is ill-defined and being set to 0.0 due to no predicted samples. Use `zero_division` parameter to control this behavior.\n",
      "  _warn_prf(average, modifier, msg_start, len(result))\n",
      "C:\\Users\\kabus\\anaconda3\\lib\\site-packages\\sklearn\\metrics\\_classification.py:1318: UndefinedMetricWarning: Precision is ill-defined and being set to 0.0 due to no predicted samples. Use `zero_division` parameter to control this behavior.\n",
      "  _warn_prf(average, modifier, msg_start, len(result))\n"
     ]
    }
   ],
   "source": [
    "# split data into train and test\n",
    "from sklearn.model_selection import train_test_split as tts\n",
    "X_train, X_test, y_train, y_test = tts (X_trans, y, random_state=0, test_size=0.3)\n",
    "\n",
    "generate_results(\"pima-imbalanced-results.csv\", X_train, y_train)"
   ]
  },
  {
   "cell_type": "markdown",
   "id": "b63331e5-e440-4ac3-9c69-d7fbc62c7e19",
   "metadata": {},
   "source": [
    "### Run with best values from generated csv"
   ]
  },
  {
   "cell_type": "code",
   "execution_count": 23,
   "id": "525c2c8f-9765-4bf9-bea8-e64dff881691",
   "metadata": {},
   "outputs": [
    {
     "name": "stdout",
     "output_type": "stream",
     "text": [
      "accuracy_score:  0.7619047619047619\n",
      "precision_score:  0.6727272727272727\n",
      "recall_score: 0.5\n",
      "f1_score 0.5736434108527131\n"
     ]
    }
   ],
   "source": [
    "import sklearn.neural_network as ann\n",
    "import csv\n",
    "from sklearn.metrics import accuracy_score, f1_score, recall_score, precision_score\n",
    "\n",
    "ann_model0 = ann.MLPClassifier((17), activation = 'logistic', max_iter = 4000)\n",
    "ann_model0.fit(X_train, y_train)\n",
    "y_pred = ann_model0.predict(X_test)\n",
    "\n",
    "print(\"accuracy_score: \",accuracy_score(y_test, y_pred))\n",
    "print (\"precision_score: \", precision_score(y_test, y_pred))\n",
    "print(\"recall_score:\", recall_score(y_test, y_pred))\n",
    "print(\"f1_score\", f1_score(y_test, y_pred)) "
   ]
  },
  {
   "cell_type": "markdown",
   "id": "a7e64779-875b-4799-a6da-9fbbdc251e6a",
   "metadata": {},
   "source": [
    "### ROC curve"
   ]
  },
  {
   "cell_type": "code",
   "execution_count": 24,
   "id": "4af15799-749a-4fd6-818f-d89049e109eb",
   "metadata": {},
   "outputs": [],
   "source": [
    "from sklearn.metrics import roc_auc_score\n",
    "roc_auc_score(y_test, y_pred)\n",
    "\n",
    "y_pred_proba = ann_model0.predict_proba(X_test)\n"
   ]
  },
  {
   "cell_type": "code",
   "execution_count": 25,
   "id": "8b9ff1e0-5fd4-4538-8d06-7c7399a43b8c",
   "metadata": {},
   "outputs": [],
   "source": [
    "from sklearn.metrics import roc_curve\n",
    "fpr, tpr, cut_offs = roc_curve(y_test, y_pred_proba[:,1])"
   ]
  },
  {
   "cell_type": "markdown",
   "id": "82c12c4e-be8e-4617-b3b0-99b4398ea0c9",
   "metadata": {},
   "source": [
    "### Plot ROC Curve"
   ]
  },
  {
   "cell_type": "code",
   "execution_count": 26,
   "id": "6ac0e48a-9494-4850-8bb0-4e304909eb8e",
   "metadata": {},
   "outputs": [
    {
     "data": {
      "image/png": "[encoded data removed]",
      "text/plain": [
       "<Figure size 640x480 with 1 Axes>"
      ]
     },
     "metadata": {},
     "output_type": "display_data"
    }
   ],
   "source": [
    "import matplotlib.pyplot as plt\n",
    "plt.plot(fpr,tpr)\n",
    "plt.show()"
   ]
  },
  {
   "cell_type": "markdown",
   "id": "629d2e48-e566-48a1-84e0-3e602ac331c4",
   "metadata": {},
   "source": [
    "### Area under the Curve"
   ]
  },
  {
   "cell_type": "code",
   "execution_count": 27,
   "id": "867a0831-8958-4d8d-a67a-e4dabeb50484",
   "metadata": {},
   "outputs": [
    {
     "data": {
      "text/plain": [
       "0.6926751592356688"
      ]
     },
     "execution_count": 27,
     "metadata": {},
     "output_type": "execute_result"
    }
   ],
   "source": [
    "from sklearn.metrics import roc_auc_score\n",
    "roc_auc_score(y_test, y_pred)"
   ]
  },
  {
   "cell_type": "markdown",
   "id": "d17970aa-d509-4450-8409-b48741e12ba1",
   "metadata": {},
   "source": [
    "### Look at Undersample first"
   ]
  },
  {
   "cell_type": "code",
   "execution_count": 41,
   "id": "c11ee787-8bb9-498d-8411-a838f39df3ba",
   "metadata": {},
   "outputs": [
    {
     "name": "stderr",
     "output_type": "stream",
     "text": [
      "C:\\Users\\kabus\\anaconda3\\lib\\site-packages\\sklearn\\metrics\\_classification.py:1318: UndefinedMetricWarning: Precision is ill-defined and being set to 0.0 due to no predicted samples. Use `zero_division` parameter to control this behavior.\n",
      "  _warn_prf(average, modifier, msg_start, len(result))\n"
     ]
    }
   ],
   "source": [
    "from imblearn.under_sampling import RandomUnderSampler as rus\n",
    "\n",
    "#I'm the model\n",
    "rus_model = rus(random_state=0)\n",
    "\n",
    "rus_model.fit(X_train, y_train)\n",
    "X_train_rus, y_train_rus = rus_model.fit_sample(X_train, y_train)\n",
    "\n",
    "generate_results(\"pima-undersample-results.csv\", X_train_rus, y_train_rus)"
   ]
  },
  {
   "cell_type": "markdown",
   "id": "0c9a0dfb-0a00-4198-a2af-0c3e3ac662a3",
   "metadata": {},
   "source": [
    "### Look at Oversample now"
   ]
  },
  {
   "cell_type": "code",
   "execution_count": 14,
   "id": "64b03131",
   "metadata": {},
   "outputs": [
    {
     "name": "stderr",
     "output_type": "stream",
     "text": [
      "C:\\Users\\kabus\\anaconda3\\lib\\site-packages\\sklearn\\metrics\\_classification.py:1318: UndefinedMetricWarning: Precision is ill-defined and being set to 0.0 due to no predicted samples. Use `zero_division` parameter to control this behavior.\n",
      "  _warn_prf(average, modifier, msg_start, len(result))\n"
     ]
    }
   ],
   "source": [
    "from imblearn.over_sampling import RandomOverSampler as ros\n",
    "ros_model = ros(random_state=0)\n",
    "\n",
    "ros_model.fit(X_train, y_train)\n",
    "X_train_ros, y_train_ros = ros_model.fit_sample(X_train, y_train)\n",
    "generate_results(\"pima-oversample-results.csv\", X_train_ros, y_train_ros)"
   ]
  },
  {
   "cell_type": "markdown",
   "id": "8ec697ee-4dfb-4e86-8e8a-6c40e57c3e3a",
   "metadata": {},
   "source": [
    "### I'll move forward with UNDERSAMPLED"
   ]
  },
  {
   "cell_type": "code",
   "execution_count": 31,
   "id": "dbcb0086-a680-4232-8b78-aabc6d686c79",
   "metadata": {},
   "outputs": [
    {
     "name": "stdout",
     "output_type": "stream",
     "text": [
      "accuracy_score:  0.7402597402597403\n",
      "precision_score:  0.5795454545454546\n",
      "recall_score: 0.6891891891891891\n",
      "f1_score 0.6296296296296297\n"
     ]
    }
   ],
   "source": [
    "import sklearn.neural_network as ann\n",
    "import csv\n",
    "from sklearn.metrics import accuracy_score, f1_score, recall_score, precision_score\n",
    "\n",
    "ann_model_rus = ann.MLPClassifier((10), activation = 'logistic', max_iter = 4000)\n",
    "ann_model_rus.fit(X_train_rus, y_train_rus)\n",
    "y_pred = ann_model_rus.predict(X_test)\n",
    "\n",
    "print(\"accuracy_score: \",accuracy_score(y_test, y_pred))\n",
    "print (\"precision_score: \", precision_score(y_test, y_pred))\n",
    "print(\"recall_score:\", recall_score(y_test, y_pred))\n",
    "print(\"f1_score\", f1_score(y_test, y_pred)) "
   ]
  },
  {
   "cell_type": "markdown",
   "id": "beccbb71-b6bf-45c2-8808-5976a193030d",
   "metadata": {},
   "source": [
    "### Create the curve"
   ]
  },
  {
   "cell_type": "code",
   "execution_count": 37,
   "id": "30821943-105d-4882-820f-2f869c47bfdf",
   "metadata": {},
   "outputs": [],
   "source": [
    "from sklearn.metrics import roc_auc_score\n",
    "roc_auc_score(y_test, y_pred)\n",
    "\n",
    "y_pred_proba = ann_model_rus.predict_proba(X_test)"
   ]
  },
  {
   "cell_type": "markdown",
   "id": "5daaccb0-1eaf-4f29-8b0f-83858c9eb100",
   "metadata": {},
   "source": [
    "### Area under the Curve"
   ]
  },
  {
   "cell_type": "code",
   "execution_count": 38,
   "id": "645fd8d5-5c64-4215-b0f7-61d20a2cc860",
   "metadata": {},
   "outputs": [
    {
     "data": {
      "text/plain": [
       "0.726760199690136"
      ]
     },
     "execution_count": 38,
     "metadata": {},
     "output_type": "execute_result"
    }
   ],
   "source": [
    "from sklearn.metrics import roc_auc_score\n",
    "roc_auc_score(y_test, y_pred)"
   ]
  },
  {
   "cell_type": "code",
   "execution_count": 39,
   "id": "75056dea-5df4-42d8-812d-68abdcafdf8c",
   "metadata": {},
   "outputs": [],
   "source": [
    "#using roc_curve function for calculating tpr and fpr for different cut-off points\n",
    "from sklearn.metrics import roc_curve\n",
    "fpr, tpr, cut_offs = roc_curve(y_test, y_pred_proba[:,1]) "
   ]
  },
  {
   "cell_type": "code",
   "execution_count": 40,
   "id": "59440ad2-b10c-42a3-95f0-3878b46b96eb",
   "metadata": {},
   "outputs": [
    {
     "data": {
      "image/png": "[encoded data removed]",
      "text/plain": [
       "<Figure size 640x480 with 1 Axes>"
      ]
     },
     "metadata": {},
     "output_type": "display_data"
    }
   ],
   "source": [
    "import matplotlib.pyplot as plt\n",
    "plt.plot(fpr,tpr)\n",
    "plt.show()"
   ]
  },
  {
   "cell_type": "markdown",
   "id": "06b3b044-b89b-4e21-b80f-019ec95c8ab9",
   "metadata": {},
   "source": [
    "Both models performed moderatly at predicting diabetes.  Although I didn't run analytics, I suspect both models are not significanly different.  However, there is a difference we'll look at the area under the curve. The Undersampled ROC_AUC was greater at 73% compared to the Imbalanced ROC_AUC was 69%.\n",
    "The Imbalanced had a F1 score of 53% which tells me the balance or harmony is not that good.  Wile the Undersampled F1 at 63% is better and so is the recall at 58% ( a little improvement over 5%). The recall all of the Correct/(FalseNegatives + Correct).  The Undersampled suffered in precision, shich tells me that it had more false positives than the Imbalanced.\n",
    "\n",
    "\n",
    "Here is the Imbalanced metrics:\n",
    "accuracy_score:  0.7619047619047619\n",
    "precision_score:  0.6727272727272727\n",
    "recall_score: 0.5\n",
    "f1_score 0.5736434108527131\n",
    "roc: 0.6926751592356688\n",
    "\n",
    "Undersampled metrics\n",
    "accuracy_score:  0.7402597402597403\n",
    "precision_score:  0.5795454545454546\n",
    "recall_score: 0.6891891891891891\n",
    "f1_score 0.6296296296296297\n",
    "roc : 0.726760199690136"
   ]
  }
 ],
 "metadata": {
  "kernelspec": {
   "display_name": "Python 3 (ipykernel)",
   "language": "python",
   "name": "python3"
  },
  "language_info": {
   "codemirror_mode": {
    "name": "ipython",
    "version": 3
   },
   "file_extension": ".py",
   "mimetype": "text/x-python",
   "name": "python",
   "nbconvert_exporter": "python",
   "pygments_lexer": "ipython3",
   "version": "3.9.13"
  }
 },
 "nbformat": 4,
 "nbformat_minor": 5
}
